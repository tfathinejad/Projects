{
 "cells": [
  {
   "cell_type": "markdown",
   "metadata": {},
   "source": [
    "News Mood\n",
    "In this assignment, you'll create a Python script to perform a sentiment analysis of the Twitter activity of various news oulets, and to present your findings visually.\n",
    "\n",
    "Your final output should provide a visualized summary of the sentiments expressed in Tweets sent out by the following news organizations: BBC, CBS, CNN, Fox, and New York times.\n",
    "The first plot will be and/or feature the following:\n",
    "\n",
    "Be a scatter plot of sentiments of the last 100 tweets sent out by each news organization, ranging from -1.0 to 1.0, where a score of 0 expresses a neutral sentiment, -1 the most negative sentiment possible, and +1 the most positive sentiment possible.\n",
    "Each plot point will reflect the compound sentiment of a tweet.\n",
    "Sort each plot point by its relative timestamp.\n",
    "The second plot will be a bar plot visualizing the overall sentiments of the last 100 tweets from each organization. For this plot, you will again aggregate the compound sentiments analyzed by VADER.\n",
    "\n",
    "The tools of the trade you will need for your task as a data analyst include the following: tweepy, pandas, matplotlib, seaborn, textblob, and VADER.\n",
    "\n",
    "Your final Jupyter notebook must:\n",
    "\n",
    "Pull last 100 tweets from each outlet.\n",
    "Perform a sentiment analysis with the compound, positive, neutral, and negative scoring for each tweet.\n",
    "Pull into a DataFrame the tweet's source acount, its text, its date, and its compound, positive, neutral, and negative sentiment scores.\n",
    "Export the data in the DataFrame into a CSV file.\n",
    "Save PNG images for each plot.\n",
    "As final considerations:\n",
    "\n",
    "Use the Matplotlib and Seaborn libraries.\n",
    "Include a written description of three observable trends based on the data.\n",
    "Include proper labeling of your plots, including plot titles (with date of analysis) and axes labels.\n",
    "Include an exported markdown version of your Notebook called  README.md in your GitHub repository."
   ]
  },
  {
   "cell_type": "markdown",
   "metadata": {},
   "source": [
    "    HW7 Pseudocode: Step by Step (just one approach among many,  you can always be creative):\n",
    "    (1) Import dependencies\n",
    "    (2) Initialize Sentiment Analyzer \n",
    "    (3) Setup Tweep API Authentication\n",
    "    (4) Select News Sources\n",
    "    (5) Probably two for-loop: outer-loop to loop through all news sources, inner-loop to grab 100 tweets for each source (run sentiment analysis here)\n",
    "    Note: before the outer-loop, you might also consider creating a generic dictionary with different empty lists for holding all tweet information\n",
    "    (6) Store the final contents into a DataFrame\n",
    "    (7) Export to CSV\n",
    "    (8) Convert dates (currently strings) into datetimes, hint: pd.to_datetime()\n",
    "    (9) Sort the dataframe by date, you can preview the data to confirm data is sorted\n",
    "    (10) Build scatter plot for tracking tweet polarity by tweet history\n",
    "    (11) Build Bar plot of overall sentiments for each news source. You might want to first Average all polarities by news source.\n",
    "    Note: Please make sure you Save PNG images for each plot\n",
    "    Note: Don't forget a written description of three observable trends based on the data.\n"
   ]
  },
  {
   "cell_type": "markdown",
   "metadata": {},
   "source": [
    "- NYT has more responses which can show a higher number of audience\n",
    "- CBS's result shows more news based on audiences liking; might deliver biased news\n",
    "- Interaction with the other news sources are closer to neutral, which shows mainstream news."
   ]
  },
  {
   "cell_type": "code",
   "execution_count": 17,
   "metadata": {},
   "outputs": [],
   "source": [
    "#Import dependencies:\n",
    "import tweepy \n",
    "import pandas as pd\n",
    "import numpy as np\n",
    "from datetime import datetime\n",
    "import matplotlib.pyplot as plt\n",
    "from config import consumer_key, consumer_secret, access_token, access_token_secret"
   ]
  },
  {
   "cell_type": "code",
   "execution_count": 2,
   "metadata": {},
   "outputs": [],
   "source": [
    "#Initialize Sentiment Analyzer:\n",
    "from vaderSentiment.vaderSentiment import SentimentIntensityAnalyzer\n",
    "analyzer = SentimentIntensityAnalyzer()"
   ]
  },
  {
   "cell_type": "code",
   "execution_count": 3,
   "metadata": {},
   "outputs": [],
   "source": [
    "# Setup Tweepy API Authentication\n",
    "auth = tweepy.OAuthHandler(consumer_key, consumer_secret)\n",
    "auth.set_access_token(access_token, access_token_secret)\n",
    "api = tweepy.API(auth, wait_on_rate_limit = True)"
   ]
  },
  {
   "cell_type": "code",
   "execution_count": 4,
   "metadata": {},
   "outputs": [],
   "source": [
    "# Select News Sources:\n",
    "news_sources = (\"@BBC\",\"@CBS\",\"@CNN\",\"@Fox\",\"@New York times\")\n"
   ]
  },
  {
   "cell_type": "code",
   "execution_count": 5,
   "metadata": {},
   "outputs": [],
   "source": [
    "n_items = 100"
   ]
  },
  {
   "cell_type": "code",
   "execution_count": 6,
   "metadata": {},
   "outputs": [
    {
     "name": "stdout",
     "output_type": "stream",
     "text": [
      "we got to @BBC successfully!\n",
      "we got to @CBS successfully!\n",
      "we got to @CNN successfully!\n",
      "we got to @Fox successfully!\n",
      "we got to @New York times successfully!\n",
      "[{'Date': 'Tue Apr 10 16:50:39 +0000 2018', 'News_Source': '@BBC', 'Compound': 0.033628, 'Positive': 0.08126, 'Negative': 0.07342, 'Neutral': 0.8454100000000001, 'Tweets Ago': 100}, {'Date': 'Tue Apr 10 16:50:46 +0000 2018', 'News_Source': '@CBS', 'Compound': 0.11082600000000001, 'Positive': 0.05869, 'Negative': 0.021079999999999998, 'Neutral': 0.9202400000000001, 'Tweets Ago': 200}, {'Date': 'Tue Apr 10 17:06:35 +0000 2018', 'News_Source': '@CNN', 'Compound': 0.004161000000000019, 'Positive': 0.07885999999999999, 'Negative': 0.06591, 'Neutral': 0.8552199999999999, 'Tweets Ago': 300}, {'Date': 'Tue Apr 10 10:38:59 +0000 2018', 'News_Source': '@Fox', 'Compound': -0.014541000000000012, 'Positive': 0.06297000000000001, 'Negative': 0.06572, 'Neutral': 0.8713299999999999, 'Tweets Ago': 400}, {'Date': 'Sun Apr 08 21:09:39 +0000 2018', 'News_Source': '@New York times', 'Compound': -0.4004999999999999, 'Positive': 0.06933333333333333, 'Negative': 0.3786666666666667, 'Neutral': 0.552, 'Tweets Ago': 403}]\n"
     ]
    }
   ],
   "source": [
    "#Probably two for-loop: outer-loop to loop through all news sources, inner-loop to grab 100 tweets for each source (run sentiment analysis here)\n",
    "counter = 0 \n",
    "results_list =[]\n",
    "n_items = 100\n",
    "    \n",
    "for channel in news_sources:\n",
    "    \n",
    "    compound_list = []\n",
    "    positive_list = []\n",
    "    negative_list = []\n",
    "    neutral_list = []\n",
    "    \n",
    "    for x in tweepy.Cursor(api.search, q=channel, results_type = \"recent\").items(n_items):\n",
    "        \n",
    "        \n",
    "        if counter % 100 == 0:\n",
    "            \n",
    "            print(f\"we got to {channel} successfully!\")\n",
    "        \n",
    "        counter += 1\n",
    "        \n",
    "        tweet = x._json\n",
    "        \n",
    "        \n",
    "        results = analyzer.polarity_scores(tweet[\"text\"])\n",
    "        \n",
    "        compound_list.append(results['compound'])\n",
    "        positive_list.append(results['pos'])\n",
    "        negative_list.append(results['neg'])\n",
    "        neutral_list.append(results['neu'])\n",
    "        \n",
    "    sentiment_dict = {\"Date\": tweet[\"created_at\"],\n",
    "                      \"News_Source\": channel,\n",
    "                      \"Compound\": np.mean(compound_list),\n",
    "                      \"Positive\": np.mean(positive_list),\n",
    "                      \"Negative\": np.mean(negative_list),\n",
    "                      \"Neutral\": np.mean(neutral_list),\n",
    "                      \"Tweets Ago\":counter\n",
    "                      }\n",
    "\n",
    "    results_list.append(sentiment_dict)\n",
    "print(results_list)\n",
    "        "
   ]
  },
  {
   "cell_type": "code",
   "execution_count": 7,
   "metadata": {},
   "outputs": [
    {
     "data": {
      "text/html": [
       "<div>\n",
       "<style scoped>\n",
       "    .dataframe tbody tr th:only-of-type {\n",
       "        vertical-align: middle;\n",
       "    }\n",
       "\n",
       "    .dataframe tbody tr th {\n",
       "        vertical-align: top;\n",
       "    }\n",
       "\n",
       "    .dataframe thead th {\n",
       "        text-align: right;\n",
       "    }\n",
       "</style>\n",
       "<table border=\"1\" class=\"dataframe\">\n",
       "  <thead>\n",
       "    <tr style=\"text-align: right;\">\n",
       "      <th></th>\n",
       "      <th>Compound</th>\n",
       "      <th>Date</th>\n",
       "      <th>Negative</th>\n",
       "      <th>Neutral</th>\n",
       "      <th>News_Source</th>\n",
       "      <th>Positive</th>\n",
       "      <th>Tweets Ago</th>\n",
       "    </tr>\n",
       "  </thead>\n",
       "  <tbody>\n",
       "    <tr>\n",
       "      <th>0</th>\n",
       "      <td>0.033628</td>\n",
       "      <td>Tue Apr 10 16:50:39 +0000 2018</td>\n",
       "      <td>0.073420</td>\n",
       "      <td>0.84541</td>\n",
       "      <td>@BBC</td>\n",
       "      <td>0.081260</td>\n",
       "      <td>100</td>\n",
       "    </tr>\n",
       "    <tr>\n",
       "      <th>1</th>\n",
       "      <td>0.110826</td>\n",
       "      <td>Tue Apr 10 16:50:46 +0000 2018</td>\n",
       "      <td>0.021080</td>\n",
       "      <td>0.92024</td>\n",
       "      <td>@CBS</td>\n",
       "      <td>0.058690</td>\n",
       "      <td>200</td>\n",
       "    </tr>\n",
       "    <tr>\n",
       "      <th>2</th>\n",
       "      <td>0.004161</td>\n",
       "      <td>Tue Apr 10 17:06:35 +0000 2018</td>\n",
       "      <td>0.065910</td>\n",
       "      <td>0.85522</td>\n",
       "      <td>@CNN</td>\n",
       "      <td>0.078860</td>\n",
       "      <td>300</td>\n",
       "    </tr>\n",
       "    <tr>\n",
       "      <th>3</th>\n",
       "      <td>-0.014541</td>\n",
       "      <td>Tue Apr 10 10:38:59 +0000 2018</td>\n",
       "      <td>0.065720</td>\n",
       "      <td>0.87133</td>\n",
       "      <td>@Fox</td>\n",
       "      <td>0.062970</td>\n",
       "      <td>400</td>\n",
       "    </tr>\n",
       "    <tr>\n",
       "      <th>4</th>\n",
       "      <td>-0.400500</td>\n",
       "      <td>Sun Apr 08 21:09:39 +0000 2018</td>\n",
       "      <td>0.378667</td>\n",
       "      <td>0.55200</td>\n",
       "      <td>@New York times</td>\n",
       "      <td>0.069333</td>\n",
       "      <td>403</td>\n",
       "    </tr>\n",
       "  </tbody>\n",
       "</table>\n",
       "</div>"
      ],
      "text/plain": [
       "   Compound                            Date  Negative  Neutral  \\\n",
       "0  0.033628  Tue Apr 10 16:50:39 +0000 2018  0.073420  0.84541   \n",
       "1  0.110826  Tue Apr 10 16:50:46 +0000 2018  0.021080  0.92024   \n",
       "2  0.004161  Tue Apr 10 17:06:35 +0000 2018  0.065910  0.85522   \n",
       "3 -0.014541  Tue Apr 10 10:38:59 +0000 2018  0.065720  0.87133   \n",
       "4 -0.400500  Sun Apr 08 21:09:39 +0000 2018  0.378667  0.55200   \n",
       "\n",
       "       News_Source  Positive  Tweets Ago  \n",
       "0             @BBC  0.081260         100  \n",
       "1             @CBS  0.058690         200  \n",
       "2             @CNN  0.078860         300  \n",
       "3             @Fox  0.062970         400  \n",
       "4  @New York times  0.069333         403  "
      ]
     },
     "execution_count": 7,
     "metadata": {},
     "output_type": "execute_result"
    }
   ],
   "source": [
    "#Store the final contents into a DataFrame:\n",
    "sentiment_df = pd.DataFrame(results_list)\n",
    "sentiment_df"
   ]
  },
  {
   "cell_type": "code",
   "execution_count": 8,
   "metadata": {},
   "outputs": [],
   "source": [
    "#Export to CSV:\n",
    "output_fn = \"News_Sentiment_Analysis.csv\"\n",
    "sentiment_df.to_csv(output_fn)"
   ]
  },
  {
   "cell_type": "code",
   "execution_count": 9,
   "metadata": {},
   "outputs": [
    {
     "data": {
      "text/plain": [
       "0   2018-04-10 16:50:39\n",
       "1   2018-04-10 16:50:46\n",
       "2   2018-04-10 17:06:35\n",
       "3   2018-04-10 10:38:59\n",
       "4   2018-04-08 21:09:39\n",
       "Name: Date, dtype: datetime64[ns]"
      ]
     },
     "execution_count": 9,
     "metadata": {},
     "output_type": "execute_result"
    }
   ],
   "source": [
    "#Convert dates (currently strings) into datetimes, hint: pd.to_datetime():\n",
    "# converted_time = []\n",
    "# for time in tweet[\"created_at\"]:\n",
    "#     converted_time.append(pd.to_datetime(time, \"%a %b %d %H:%M:%S %z %Y\"))\n",
    "# print(converted_time)\n",
    "\n",
    "sentiment_df[\"Date\"] = pd.to_datetime(sentiment_df[\"Date\"])\n",
    "sentiment_df[\"Date\"]"
   ]
  },
  {
   "cell_type": "code",
   "execution_count": 10,
   "metadata": {},
   "outputs": [
    {
     "data": {
      "text/html": [
       "<div>\n",
       "<style scoped>\n",
       "    .dataframe tbody tr th:only-of-type {\n",
       "        vertical-align: middle;\n",
       "    }\n",
       "\n",
       "    .dataframe tbody tr th {\n",
       "        vertical-align: top;\n",
       "    }\n",
       "\n",
       "    .dataframe thead th {\n",
       "        text-align: right;\n",
       "    }\n",
       "</style>\n",
       "<table border=\"1\" class=\"dataframe\">\n",
       "  <thead>\n",
       "    <tr style=\"text-align: right;\">\n",
       "      <th></th>\n",
       "      <th>Compound</th>\n",
       "      <th>Date</th>\n",
       "      <th>Negative</th>\n",
       "      <th>Neutral</th>\n",
       "      <th>News_Source</th>\n",
       "      <th>Positive</th>\n",
       "      <th>Tweets Ago</th>\n",
       "    </tr>\n",
       "  </thead>\n",
       "  <tbody>\n",
       "    <tr>\n",
       "      <th>4</th>\n",
       "      <td>-0.400500</td>\n",
       "      <td>2018-04-08 21:09:39</td>\n",
       "      <td>0.378667</td>\n",
       "      <td>0.55200</td>\n",
       "      <td>@New York times</td>\n",
       "      <td>0.069333</td>\n",
       "      <td>403</td>\n",
       "    </tr>\n",
       "    <tr>\n",
       "      <th>3</th>\n",
       "      <td>-0.014541</td>\n",
       "      <td>2018-04-10 10:38:59</td>\n",
       "      <td>0.065720</td>\n",
       "      <td>0.87133</td>\n",
       "      <td>@Fox</td>\n",
       "      <td>0.062970</td>\n",
       "      <td>400</td>\n",
       "    </tr>\n",
       "    <tr>\n",
       "      <th>0</th>\n",
       "      <td>0.033628</td>\n",
       "      <td>2018-04-10 16:50:39</td>\n",
       "      <td>0.073420</td>\n",
       "      <td>0.84541</td>\n",
       "      <td>@BBC</td>\n",
       "      <td>0.081260</td>\n",
       "      <td>100</td>\n",
       "    </tr>\n",
       "    <tr>\n",
       "      <th>1</th>\n",
       "      <td>0.110826</td>\n",
       "      <td>2018-04-10 16:50:46</td>\n",
       "      <td>0.021080</td>\n",
       "      <td>0.92024</td>\n",
       "      <td>@CBS</td>\n",
       "      <td>0.058690</td>\n",
       "      <td>200</td>\n",
       "    </tr>\n",
       "    <tr>\n",
       "      <th>2</th>\n",
       "      <td>0.004161</td>\n",
       "      <td>2018-04-10 17:06:35</td>\n",
       "      <td>0.065910</td>\n",
       "      <td>0.85522</td>\n",
       "      <td>@CNN</td>\n",
       "      <td>0.078860</td>\n",
       "      <td>300</td>\n",
       "    </tr>\n",
       "  </tbody>\n",
       "</table>\n",
       "</div>"
      ],
      "text/plain": [
       "   Compound                Date  Negative  Neutral      News_Source  Positive  \\\n",
       "4 -0.400500 2018-04-08 21:09:39  0.378667  0.55200  @New York times  0.069333   \n",
       "3 -0.014541 2018-04-10 10:38:59  0.065720  0.87133             @Fox  0.062970   \n",
       "0  0.033628 2018-04-10 16:50:39  0.073420  0.84541             @BBC  0.081260   \n",
       "1  0.110826 2018-04-10 16:50:46  0.021080  0.92024             @CBS  0.058690   \n",
       "2  0.004161 2018-04-10 17:06:35  0.065910  0.85522             @CNN  0.078860   \n",
       "\n",
       "   Tweets Ago  \n",
       "4         403  \n",
       "3         400  \n",
       "0         100  \n",
       "1         200  \n",
       "2         300  "
      ]
     },
     "execution_count": 10,
     "metadata": {},
     "output_type": "execute_result"
    }
   ],
   "source": [
    "sentiment_df = sentiment_df.sort_values([\"Date\"])\n",
    "sentiment_df"
   ]
  },
  {
   "cell_type": "code",
   "execution_count": 14,
   "metadata": {},
   "outputs": [
    {
     "data": {
      "image/png": "[encoded data removed]",
      "text/plain": [
       "<matplotlib.figure.Figure at 0x1d8c1ca4ba8>"
      ]
     },
     "metadata": {},
     "output_type": "display_data"
    }
   ],
   "source": [
    "sentiment_df.plot(x=\"Tweets Ago\", y='Compound',title='News Mood Analysis', kind='scatter')\n",
    "plt.show()"
   ]
  },
  {
   "cell_type": "code",
   "execution_count": 15,
   "metadata": {},
   "outputs": [
    {
     "data": {
      "text/plain": [
       "<matplotlib.figure.Figure at 0x1d8c1cdfa90>"
      ]
     },
     "metadata": {},
     "output_type": "display_data"
    }
   ],
   "source": [
    "plt.savefig('News Mood Analysis.png')"
   ]
  },
  {
   "cell_type": "code",
   "execution_count": 13,
   "metadata": {},
   "outputs": [
    {
     "data": {
      "image/png": "[encoded data removed]",
      "text/plain": [
       "<matplotlib.figure.Figure at 0x1d8c2b6f940>"
      ]
     },
     "metadata": {},
     "output_type": "display_data"
    }
   ],
   "source": [
    "sentiment_df.plot(x=\"News_Source\", y=\"Compound\", title = \"News Mood Analysis_Channel\", kind = \"bar\")\n",
    "plt.show()"
   ]
  },
  {
   "cell_type": "code",
   "execution_count": 16,
   "metadata": {},
   "outputs": [
    {
     "data": {
      "text/plain": [
       "<matplotlib.figure.Figure at 0x1d8c205bc50>"
      ]
     },
     "metadata": {},
     "output_type": "display_data"
    }
   ],
   "source": [
    "plt.savefig('News Mood Analysis_Channel.png')"
   ]
  },
  {
   "cell_type": "code",
   "execution_count": null,
   "metadata": {},
   "outputs": [],
   "source": []
  }
 ],
 "metadata": {
  "kernelspec": {
   "display_name": "Python 3",
   "language": "python",
   "name": "python3"
  },
  "language_info": {
   "codemirror_mode": {
    "name": "ipython",
    "version": 3
   },
   "file_extension": ".py",
   "mimetype": "text/x-python",
   "name": "python",
   "nbconvert_exporter": "python",
   "pygments_lexer": "ipython3",
   "version": "3.6.4"
  }
 },
 "nbformat": 4,
 "nbformat_minor": 2
}
